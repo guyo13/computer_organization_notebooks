{
 "cells": [
  {
   "cell_type": "markdown",
   "id": "ddb3a4d2-f9f8-47e8-82ce-1721f199345c",
   "metadata": {},
   "source": [
    "# Sequential Logic And building the Register File\n",
    "## Sequential Logic\n",
    "* **State Element** or memory element is a device that can store an electronic signal.\n",
    "* \n",
    "![SR-Latch](SR-Latch.png)"
   ]
  },
  {
   "cell_type": "code",
   "execution_count": null,
   "id": "5d71274b-5206-4c87-ab6b-0752b201eca9",
   "metadata": {},
   "outputs": [],
   "source": []
  }
 ],
 "metadata": {
  "kernelspec": {
   "display_name": "Python 3 (ipykernel)",
   "language": "python",
   "name": "python3"
  },
  "language_info": {
   "codemirror_mode": {
    "name": "ipython",
    "version": 3
   },
   "file_extension": ".py",
   "mimetype": "text/x-python",
   "name": "python",
   "nbconvert_exporter": "python",
   "pygments_lexer": "ipython3",
   "version": "3.9.2"
  }
 },
 "nbformat": 4,
 "nbformat_minor": 5
}
